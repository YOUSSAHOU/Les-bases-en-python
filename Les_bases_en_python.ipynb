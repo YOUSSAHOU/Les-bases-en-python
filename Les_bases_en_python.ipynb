{
  "nbformat": 4,
  "nbformat_minor": 0,
  "metadata": {
    "colab": {
      "name": "Les bases en python.ipynb",
      "provenance": [],
      "collapsed_sections": []
    },
    "kernelspec": {
      "name": "python3",
      "display_name": "Python 3"
    },
    "language_info": {
      "name": "python"
    }
  },
  "cells": [
    {
      "cell_type": "markdown",
      "metadata": {
        "id": "KFJ3rAQ4ZqKS"
      },
      "source": [
        "Exercice 1: Devine le nombre\n"
      ]
    },
    {
      "cell_type": "code",
      "metadata": {
        "id": "CZdvZ0evaCLF"
      },
      "source": [
        "import random\n",
        "def devinette():\n",
        "    nombre_aleatoire=random.randrange(101)\n",
        "    print(nombre_aleatoire)\n",
        "    nombre_utilisateur=input(\"Devinez ce nombre: \")\n",
        "    nombre_utilisateur=int(nombre_utilisateur)\n",
        "    if nombre_utilisateur < nombre_aleatoire:\n",
        "        print(\"Trop petit\")\n",
        "        \n",
        "    elif nombre_utilisateur > nombre_aleatoire:\n",
        "        print(\"Trop grand\") \n",
        "           \n",
        "    else:\n",
        "        print(\"Exact\")\n",
        "        \n",
        "    while nombre_utilisateur!= nombre_aleatoire:\n",
        "        nombre_utilisateur=input(\"le nombre deviné par l'utilisateur est de: \")\n",
        "\n",
        "        if int(nombre_utilisateur) == nombre_aleatoire:\n",
        "            print(\"Nombre correct\")\n",
        "            break\n",
        "        else:\n",
        "            print(\"Nombre incorrect.Ressayez!!!\")"
      ],
      "execution_count": null,
      "outputs": []
    },
    {
      "cell_type": "code",
      "metadata": {
        "colab": {
          "base_uri": "https://localhost:8080/"
        },
        "id": "ZUrogD5kagyl",
        "outputId": "ee4f3b95-59cb-4f96-ffaf-ffdae498e2af"
      },
      "source": [
        "dev9inette()"
      ],
      "execution_count": null,
      "outputs": [
        {
          "output_type": "stream",
          "text": [
            "49\n",
            "Devinez ce nombre: 52\n",
            "Trop grand\n",
            "le nombre deviné par l'utilisateur est de: 86\n",
            "Nombre incorrect.Ressayez!!!\n",
            "le nombre deviné par l'utilisateur est de: 74\n",
            "Nombre incorrect.Ressayez!!!\n",
            "le nombre deviné par l'utilisateur est de: 95\n",
            "Nombre incorrect.Ressayez!!!\n",
            "le nombre deviné par l'utilisateur est de: 52\n",
            "Nombre incorrect.Ressayez!!!\n",
            "le nombre deviné par l'utilisateur est de: 5\n",
            "Nombre incorrect.Ressayez!!!\n",
            "le nombre deviné par l'utilisateur est de: 9\n",
            "Nombre incorrect.Ressayez!!!\n",
            "le nombre deviné par l'utilisateur est de: 49\n",
            "Nombre correct\n"
          ],
          "name": "stdout"
        }
      ]
    },
    {
      "cell_type": "markdown",
      "metadata": {
        "id": "wrEgGA9hbBnE"
      },
      "source": [
        "Exercice 2: Devine le nombre: Niveau 2"
      ]
    },
    {
      "cell_type": "code",
      "metadata": {
        "id": "CluBwMEGbLBw"
      },
      "source": [
        "import random\n",
        "def devinette():\n",
        "    nombre_aleatoire=random.randrange(101)\n",
        "    print(nombre_aleatoire)\n",
        "    nombre_utilisateur=input(\"Devinez ce nombre: \")\n",
        "    nombre_utilisateur=int(nombre_utilisateur)\n",
        "    if nombre_utilisateur < nombre_aleatoire:\n",
        "        print(\"Trop petit\")\n",
        "        \n",
        "    elif nombre_utilisateur > nombre_aleatoire:\n",
        "        print(\"Trop grand\") \n",
        "           \n",
        "    else:\n",
        "        print(\"Exact\")\n",
        "        \n",
        "    for i in range(3):\n",
        "        nombre_utilisateur=\"\"\n",
        "        nombre_utilisateur=input(\"le nombre deviné par l'utilisateur est de: \")\n",
        "\n",
        "\n",
        "        if int(nombre_utilisateur) == nombre_aleatoire:\n",
        "            print(\"Nombre correct\")\n",
        "            break\n",
        "        else:\n",
        "            print(\"Nombre incorrect.Ressayez!!!\")\n",
        "            \n",
        "    print(\"Vous avez épuisé vos chance\")"
      ],
      "execution_count": null,
      "outputs": []
    },
    {
      "cell_type": "code",
      "metadata": {
        "colab": {
          "base_uri": "https://localhost:8080/"
        },
        "id": "GFyQvnv0bnj4",
        "outputId": "45776121-ca95-4eab-9e8d-02b1cea49cbd"
      },
      "source": [
        "devinette()"
      ],
      "execution_count": null,
      "outputs": [
        {
          "output_type": "stream",
          "text": [
            "38\n",
            "Devinez ce nombre: 5\n",
            "Trop petit\n",
            "le nombre deviné par l'utilisateur est de: 96\n",
            "Nombre incorrect.Ressayez!!!\n",
            "le nombre deviné par l'utilisateur est de: 87\n",
            "Nombre incorrect.Ressayez!!!\n",
            "le nombre deviné par l'utilisateur est de: 98\n",
            "Nombre incorrect.Ressayez!!!\n",
            "Vous avez épuisé vos chance\n"
          ],
          "name": "stdout"
        }
      ]
    },
    {
      "cell_type": "markdown",
      "metadata": {
        "id": "N-o8Ncz4bvpS"
      },
      "source": [
        "Exercice 3: La fonction sum"
      ]
    },
    {
      "cell_type": "code",
      "metadata": {
        "id": "12O3t54yb3nw"
      },
      "source": [
        "def somme(*args):\n",
        "    total= 0\n",
        "    for nombre in args:\n",
        "        total+= nombre\n",
        "    return total"
      ],
      "execution_count": null,
      "outputs": []
    },
    {
      "cell_type": "code",
      "metadata": {
        "colab": {
          "base_uri": "https://localhost:8080/"
        },
        "id": "ymcb_7ixcLrM",
        "outputId": "ee95591c-ff2c-4632-a0cc-74a097dcfc7d"
      },
      "source": [
        "somme(20,30,58,92,73,17,82,48)"
      ],
      "execution_count": null,
      "outputs": [
        {
          "output_type": "execute_result",
          "data": {
            "text/plain": [
              "420"
            ]
          },
          "metadata": {
            "tags": []
          },
          "execution_count": 9
        }
      ]
    },
    {
      "cell_type": "markdown",
      "metadata": {
        "id": "24rFxWr_cOL3"
      },
      "source": [
        "Exercice 4: Adresse email de nos employées"
      ]
    },
    {
      "cell_type": "code",
      "metadata": {
        "id": "H2LRPnENcWDr"
      },
      "source": [
        "def email(prenom, nom):\n",
        "    print(f\"{prenom}_{nom}@pythonboss.com\")"
      ],
      "execution_count": null,
      "outputs": []
    },
    {
      "cell_type": "code",
      "metadata": {
        "colab": {
          "base_uri": "https://localhost:8080/"
        },
        "id": "YjLpHtObcmzo",
        "outputId": "7ce0822e-8a4f-4a88-a4b4-5e4a4db1c345"
      },
      "source": [
        "email(\"sabirath\",\"youssahou\")"
      ],
      "execution_count": null,
      "outputs": [
        {
          "output_type": "stream",
          "text": [
            "sabirath_youssahou@pythonboss.com\n"
          ],
          "name": "stdout"
        }
      ]
    },
    {
      "cell_type": "code",
      "metadata": {
        "colab": {
          "base_uri": "https://localhost:8080/"
        },
        "id": "_1YinAlicqAc",
        "outputId": "2382dd41-c9cd-4381-cee6-2a18a8493650"
      },
      "source": [
        "email(\"mariam\",\"zakari\")"
      ],
      "execution_count": null,
      "outputs": [
        {
          "output_type": "stream",
          "text": [
            "mariam_zakari@pythonboss.com\n"
          ],
          "name": "stdout"
        }
      ]
    },
    {
      "cell_type": "markdown",
      "metadata": {
        "id": "45-kouIkdGn0"
      },
      "source": [
        "Autre alternative"
      ]
    },
    {
      "cell_type": "code",
      "metadata": {
        "id": "BkRSRlTgdK68"
      },
      "source": [
        "def email():\n",
        "  Prenom=input(\"Votre prenom: \")\n",
        "  Prenom=Prenom.lower()\n",
        "  Nom=input(\"Votre nom: \")\n",
        "  Nom= Nom.lower()\n",
        "  print(f\"{Prenom}_{Nom}@pythonboss.com\")"
      ],
      "execution_count": null,
      "outputs": []
    },
    {
      "cell_type": "code",
      "metadata": {
        "colab": {
          "base_uri": "https://localhost:8080/"
        },
        "id": "SSQMBIaWdOfX",
        "outputId": "c005196b-8210-450d-a436-10e74f4cb57c"
      },
      "source": [
        "email()"
      ],
      "execution_count": null,
      "outputs": [
        {
          "output_type": "stream",
          "text": [
            "Votre prenom: Fleurette\n",
            "Votre nom: YVON\n",
            "fleurette_yvon@pythonboss.com\n"
          ],
          "name": "stdout"
        }
      ]
    },
    {
      "cell_type": "markdown",
      "metadata": {
        "id": "JJh_qb1adZ0e"
      },
      "source": [
        "Exerciec 5: Ordonner une chaine de caractères"
      ]
    },
    {
      "cell_type": "code",
      "metadata": {
        "id": "_8T5WSwGdjaW"
      },
      "source": [
        "def ordonne_str(strg):\n",
        "  x=''.join(sorted(strg))\n",
        "  return x"
      ],
      "execution_count": null,
      "outputs": []
    },
    {
      "cell_type": "code",
      "metadata": {
        "colab": {
          "base_uri": "https://localhost:8080/",
          "height": 35
        },
        "id": "dKlKuW5CeDOT",
        "outputId": "5add9f2d-e06c-4801-ce94-bd90a6ef1361"
      },
      "source": [
        "strg=\"python\"\n",
        "ordonne_str(strg)"
      ],
      "execution_count": null,
      "outputs": [
        {
          "output_type": "execute_result",
          "data": {
            "application/vnd.google.colaboratory.intrinsic+json": {
              "type": "string"
            },
            "text/plain": [
              "'hnopty'"
            ]
          },
          "metadata": {
            "tags": []
          },
          "execution_count": 21
        }
      ]
    },
    {
      "cell_type": "code",
      "metadata": {
        "colab": {
          "base_uri": "https://localhost:8080/",
          "height": 35
        },
        "id": "qGV9h0jMe3py",
        "outputId": "40731cc5-7c46-4225-cc9a-213d68b5a6e6"
      },
      "source": [
        "strg=\"marketing\"\n",
        "ordonne_str(strg)"
      ],
      "execution_count": null,
      "outputs": [
        {
          "output_type": "execute_result",
          "data": {
            "application/vnd.google.colaboratory.intrinsic+json": {
              "type": "string"
            },
            "text/plain": [
              "'aegikmnrt'"
            ]
          },
          "metadata": {
            "tags": []
          },
          "execution_count": 22
        }
      ]
    },
    {
      "cell_type": "markdown",
      "metadata": {
        "id": "-njo7aPQe-FT"
      },
      "source": [
        "Exercice 6: Le français sans voyelle"
      ]
    },
    {
      "cell_type": "code",
      "metadata": {
        "id": "dCduYfpgfGHI"
      },
      "source": [
        "def sans_voyelle (text):\n",
        "  text=text.lower()\n",
        "  texte=\"\"\n",
        "  for t in text:\n",
        "      if t in \"aeiouy\":\n",
        "        t=\"\"\n",
        "      else:\n",
        "        t=t\n",
        "      texte+= t\n",
        "  return texte"
      ],
      "execution_count": null,
      "outputs": []
    },
    {
      "cell_type": "code",
      "metadata": {
        "colab": {
          "base_uri": "https://localhost:8080/",
          "height": 35
        },
        "id": "lyqAKttnfph5",
        "outputId": "8b36e5ca-7d85-4b91-f015-dbe202185bf2"
      },
      "source": [
        "sans_voyelle(\"sabirath\")"
      ],
      "execution_count": null,
      "outputs": [
        {
          "output_type": "execute_result",
          "data": {
            "application/vnd.google.colaboratory.intrinsic+json": {
              "type": "string"
            },
            "text/plain": [
              "'sbrth'"
            ]
          },
          "metadata": {
            "tags": []
          },
          "execution_count": 25
        }
      ]
    },
    {
      "cell_type": "code",
      "metadata": {
        "colab": {
          "base_uri": "https://localhost:8080/",
          "height": 35
        },
        "id": "XtxBQfwUfrpz",
        "outputId": "92aa59b4-bb39-4cf8-99c3-dc3b710712db"
      },
      "source": [
        "sans_voyelle(\"Innocent\")"
      ],
      "execution_count": null,
      "outputs": [
        {
          "output_type": "execute_result",
          "data": {
            "application/vnd.google.colaboratory.intrinsic+json": {
              "type": "string"
            },
            "text/plain": [
              "'nncnt'"
            ]
          },
          "metadata": {
            "tags": []
          },
          "execution_count": 26
        }
      ]
    },
    {
      "cell_type": "markdown",
      "metadata": {
        "id": "o8sNFzT6gDPz"
      },
      "source": [
        "Exercice 7: Des phrases sans voyelle autre que a"
      ]
    },
    {
      "cell_type": "code",
      "metadata": {
        "id": "BZ1-0ccfgI_A"
      },
      "source": [
        "\n",
        "def sans_voyelle (text):\n",
        "  text=text.lower()\n",
        "  texte=\"\"\n",
        "  for t in text:\n",
        "      if t in \"eiouy\":\n",
        "        t=\"\"\n",
        "      else:\n",
        "        t=t\n",
        "      texte+= t\n",
        "  return texte"
      ],
      "execution_count": null,
      "outputs": []
    },
    {
      "cell_type": "code",
      "metadata": {
        "colab": {
          "base_uri": "https://localhost:8080/",
          "height": 35
        },
        "id": "BrQMPR1cgrc-",
        "outputId": "823ecf1d-01fd-44f6-de79-b50f972e2498"
      },
      "source": [
        "sans_voyelle(\"Bonjour Antoine. Il fait beau tres beau ce matin\")"
      ],
      "execution_count": null,
      "outputs": [
        {
          "output_type": "execute_result",
          "data": {
            "application/vnd.google.colaboratory.intrinsic+json": {
              "type": "string"
            },
            "text/plain": [
              "'bnjr antn. l fat ba trs ba c matn'"
            ]
          },
          "metadata": {
            "tags": []
          },
          "execution_count": 29
        }
      ]
    },
    {
      "cell_type": "markdown",
      "metadata": {
        "id": "rvqGPKpbhHhY"
      },
      "source": [
        "Exercice 8: Début et fin des séquences"
      ]
    },
    {
      "cell_type": "code",
      "metadata": {
        "colab": {
          "base_uri": "https://localhost:8080/"
        },
        "id": "4v5fRIsShOMx",
        "outputId": "d41b40c9-81e7-448c-a046-6b0b942d2e1c"
      },
      "source": [
        "sequence1=\"maman\"\n",
        "debut_fin = sequence1[::len(sequence1)-1]\n",
        "print(debut_fin)"
      ],
      "execution_count": null,
      "outputs": [
        {
          "output_type": "stream",
          "text": [
            "mn\n"
          ],
          "name": "stdout"
        }
      ]
    },
    {
      "cell_type": "code",
      "metadata": {
        "id": "gTsTiQYGhWPF"
      },
      "source": [
        "def debut_fin(s):\n",
        "  x=s[::len(s)-1]\n",
        "  return x"
      ],
      "execution_count": null,
      "outputs": []
    },
    {
      "cell_type": "code",
      "metadata": {
        "colab": {
          "base_uri": "https://localhost:8080/",
          "height": 35
        },
        "id": "ICvpjrcChqyn",
        "outputId": "7bf44639-5358-4314-80d8-0ef64c7f1da5"
      },
      "source": [
        "s=\"maman\"\n",
        "debut_fin(s)"
      ],
      "execution_count": null,
      "outputs": [
        {
          "output_type": "execute_result",
          "data": {
            "application/vnd.google.colaboratory.intrinsic+json": {
              "type": "string"
            },
            "text/plain": [
              "'mn'"
            ]
          },
          "metadata": {
            "tags": []
          },
          "execution_count": 32
        }
      ]
    },
    {
      "cell_type": "code",
      "metadata": {
        "colab": {
          "base_uri": "https://localhost:8080/"
        },
        "id": "PBc65EHFh1Ro",
        "outputId": "b83dc008-ba45-4cc6-9a3b-74d5c6fb5d72"
      },
      "source": [
        "s=[5,2,6,9,8]\n",
        "debut_fin(s)"
      ],
      "execution_count": null,
      "outputs": [
        {
          "output_type": "execute_result",
          "data": {
            "text/plain": [
              "[5, 8]"
            ]
          },
          "metadata": {
            "tags": []
          },
          "execution_count": 33
        }
      ]
    },
    {
      "cell_type": "code",
      "metadata": {
        "colab": {
          "base_uri": "https://localhost:8080/"
        },
        "id": "FvG1oloJiCDL",
        "outputId": "1d9512dc-2f20-4c46-b558-feb29f0e75b6"
      },
      "source": [
        "s=(2,6,8,9)\n",
        "debut_fin(s)"
      ],
      "execution_count": null,
      "outputs": [
        {
          "output_type": "execute_result",
          "data": {
            "text/plain": [
              "(2, 9)"
            ]
          },
          "metadata": {
            "tags": []
          },
          "execution_count": 34
        }
      ]
    },
    {
      "cell_type": "markdown",
      "metadata": {
        "id": "Yp3ffnoSiPkG"
      },
      "source": [
        "Exercice 9: Dis moi ton index, je te dirai qui tu es"
      ]
    },
    {
      "cell_type": "code",
      "metadata": {
        "id": "M1lh8fskiYGR"
      },
      "source": [
        "def somme_pair_impair(a):\n",
        "    somme_pair = sum(a[::2])\n",
        "    somme_impair = sum(a[1::2])\n",
        "    print(\"La somme des éléments index pairs: \", somme_pair)\n",
        "    print(\"La somme des éléments index impairs: \", somme_impair)\n",
        "    \n",
        "    return ([somme_pair, somme_impair])"
      ],
      "execution_count": null,
      "outputs": []
    },
    {
      "cell_type": "code",
      "metadata": {
        "colab": {
          "base_uri": "https://localhost:8080/"
        },
        "id": "COmiHltzizbn",
        "outputId": "fe4cc75e-6b6b-4d86-e934-10c7d80a7d8c"
      },
      "source": [
        "a=[10,20,30,40,50,60]\n",
        "somme_pair_impair(a)\n"
      ],
      "execution_count": null,
      "outputs": [
        {
          "output_type": "stream",
          "text": [
            "La somme des éléments index pairs:  90\n",
            "La somme des éléments index impairs:  120\n"
          ],
          "name": "stdout"
        },
        {
          "output_type": "execute_result",
          "data": {
            "text/plain": [
              "[90, 120]"
            ]
          },
          "metadata": {
            "tags": []
          },
          "execution_count": 37
        }
      ]
    },
    {
      "cell_type": "markdown",
      "metadata": {
        "id": "1AYVLdbQjHYl"
      },
      "source": [
        "Exercice 10: Mot ayant le plus de lettre répétée"
      ]
    },
    {
      "cell_type": "code",
      "metadata": {
        "id": "T6cULHCejNs0"
      },
      "source": [
        "from collections import Counter\n",
        "\n",
        "def mot_lettre_repetee(strg):\n",
        "    counters = [ (mot, *max(Counter(mot).items(), key=lambda item: item[1]))\n",
        "                 for mot in strg ]\n",
        "    max_mot, max_lettre, max_count = max(counters, key=lambda item: item[2])\n",
        "    #print(max_mot, max_lettre, max_count)\n",
        "    return max_mot"
      ],
      "execution_count": null,
      "outputs": []
    },
    {
      "cell_type": "code",
      "metadata": {
        "colab": {
          "base_uri": "https://localhost:8080/",
          "height": 35
        },
        "id": "CqTHdYMgkHr3",
        "outputId": "17815ae2-f1cd-4a3b-d780-222f228da485"
      },
      "source": [
        "strg=['On', 'a', 'effectuee', 'plusieurs', 'tests', 'elementaire', 'ce', 'matin']\n",
        "mot_lettre_repetee(strg)"
      ],
      "execution_count": null,
      "outputs": [
        {
          "output_type": "execute_result",
          "data": {
            "application/vnd.google.colaboratory.intrinsic+json": {
              "type": "string"
            },
            "text/plain": [
              "'effectuee'"
            ]
          },
          "metadata": {
            "tags": []
          },
          "execution_count": 43
        }
      ]
    },
    {
      "cell_type": "code",
      "metadata": {
        "colab": {
          "base_uri": "https://localhost:8080/",
          "height": 35
        },
        "id": "6yMriAxQk4A8",
        "outputId": "cdc63e1b-ab75-44a6-d447-fc7985ed08d3"
      },
      "source": [
        "strg=['Toto', 'a', 'travaillé', 'sur', 'les', 'bases', 'elementaire','en','python' 'ce', 'matin']\n",
        "mot_lettre_repetee(strg)"
      ],
      "execution_count": null,
      "outputs": [
        {
          "output_type": "execute_result",
          "data": {
            "application/vnd.google.colaboratory.intrinsic+json": {
              "type": "string"
            },
            "text/plain": [
              "'elementaire'"
            ]
          },
          "metadata": {
            "tags": []
          },
          "execution_count": 44
        }
      ]
    },
    {
      "cell_type": "markdown",
      "metadata": {
        "id": "ZxdXcV--lb98"
      },
      "source": [
        "Exercice 11: Distance entre plusieurs points"
      ]
    },
    {
      "cell_type": "code",
      "metadata": {
        "id": "7_-QYo0zlhCx"
      },
      "source": [
        "def distance_entre_points(A):\n",
        "    distance =[abs(a-b) for a, b in zip(A[:-1], A[1:])]\n",
        "    return distance"
      ],
      "execution_count": null,
      "outputs": []
    },
    {
      "cell_type": "code",
      "metadata": {
        "colab": {
          "base_uri": "https://localhost:8080/"
        },
        "id": "ou1Qtx1xlt-w",
        "outputId": "15f211dd-540c-4a47-e6a7-a2c1fff547bc"
      },
      "source": [
        "B= [65, 54, 59, 89 , 71, 88]\n",
        "distance_entre_points(B)"
      ],
      "execution_count": null,
      "outputs": [
        {
          "output_type": "execute_result",
          "data": {
            "text/plain": [
              "[11, 5, 30, 18, 17]"
            ]
          },
          "metadata": {
            "tags": []
          },
          "execution_count": 46
        }
      ]
    },
    {
      "cell_type": "markdown",
      "metadata": {
        "id": "HQMfo3m8l7hO"
      },
      "source": [
        "Exercice 12: Lettres seccessifs et combien d'occurences"
      ]
    },
    {
      "cell_type": "code",
      "metadata": {
        "id": "wHLz9r0SmCzr"
      },
      "source": [
        "def lettre_successif(s) :\n",
        "    i = 0\n",
        "    while( i < len(s) - 1) :\n",
        "      count = 1\n",
        "      while s[i] == s[i + 1] :\n",
        "        i += 1\n",
        "        count += 1\n",
        "        if i + 1 == len(s):\n",
        "          break\n",
        "        print([((s[i]),(count))],end=\"\")\n",
        "        i += 1\n",
        "     \n",
        "      #print()"
      ],
      "execution_count": null,
      "outputs": []
    },
    {
      "cell_type": "code",
      "metadata": {
        "colab": {
          "base_uri": "https://localhost:8080/",
          "height": 299
        },
        "id": "tmS0PeV-mlMY",
        "outputId": "3ebea625-131e-46c4-b198-0c8dab5d1dee"
      },
      "source": [
        "s=\"GeeeEEKaaaKsees\"\n",
        "lettre_successif(s)"
      ],
      "execution_count": null,
      "outputs": [
        {
          "output_type": "error",
          "ename": "KeyboardInterrupt",
          "evalue": "ignored",
          "traceback": [
            "\u001b[0;31m---------------------------------------------------------------------------\u001b[0m",
            "\u001b[0;31mKeyboardInterrupt\u001b[0m                         Traceback (most recent call last)",
            "\u001b[0;32m<ipython-input-53-69e1b27e1a30>\u001b[0m in \u001b[0;36m<module>\u001b[0;34m()\u001b[0m\n\u001b[1;32m      1\u001b[0m \u001b[0ms\u001b[0m\u001b[0;34m=\u001b[0m\u001b[0;34m\"GeeeEEKaaaKsees\"\u001b[0m\u001b[0;34m\u001b[0m\u001b[0;34m\u001b[0m\u001b[0m\n\u001b[0;32m----> 2\u001b[0;31m \u001b[0mlettre_successif\u001b[0m\u001b[0;34m(\u001b[0m\u001b[0ms\u001b[0m\u001b[0;34m)\u001b[0m\u001b[0;34m\u001b[0m\u001b[0;34m\u001b[0m\u001b[0m\n\u001b[0m",
            "\u001b[0;32m<ipython-input-52-36581ee563ee>\u001b[0m in \u001b[0;36mlettre_successif\u001b[0;34m(s)\u001b[0m\n\u001b[1;32m      3\u001b[0m     \u001b[0;32mwhile\u001b[0m\u001b[0;34m(\u001b[0m \u001b[0mi\u001b[0m \u001b[0;34m<\u001b[0m \u001b[0mlen\u001b[0m\u001b[0;34m(\u001b[0m\u001b[0ms\u001b[0m\u001b[0;34m)\u001b[0m \u001b[0;34m-\u001b[0m \u001b[0;36m1\u001b[0m\u001b[0;34m)\u001b[0m \u001b[0;34m:\u001b[0m\u001b[0;34m\u001b[0m\u001b[0;34m\u001b[0m\u001b[0m\n\u001b[1;32m      4\u001b[0m       \u001b[0mcount\u001b[0m \u001b[0;34m=\u001b[0m \u001b[0;36m1\u001b[0m\u001b[0;34m\u001b[0m\u001b[0;34m\u001b[0m\u001b[0m\n\u001b[0;32m----> 5\u001b[0;31m       \u001b[0;32mwhile\u001b[0m \u001b[0ms\u001b[0m\u001b[0;34m[\u001b[0m\u001b[0mi\u001b[0m\u001b[0;34m]\u001b[0m \u001b[0;34m==\u001b[0m \u001b[0ms\u001b[0m\u001b[0;34m[\u001b[0m\u001b[0mi\u001b[0m \u001b[0;34m+\u001b[0m \u001b[0;36m1\u001b[0m\u001b[0;34m]\u001b[0m \u001b[0;34m:\u001b[0m\u001b[0;34m\u001b[0m\u001b[0;34m\u001b[0m\u001b[0m\n\u001b[0m\u001b[1;32m      6\u001b[0m         \u001b[0mi\u001b[0m \u001b[0;34m+=\u001b[0m \u001b[0;36m1\u001b[0m\u001b[0;34m\u001b[0m\u001b[0;34m\u001b[0m\u001b[0m\n\u001b[1;32m      7\u001b[0m         \u001b[0mcount\u001b[0m \u001b[0;34m+=\u001b[0m \u001b[0;36m1\u001b[0m\u001b[0;34m\u001b[0m\u001b[0;34m\u001b[0m\u001b[0m\n",
            "\u001b[0;31mKeyboardInterrupt\u001b[0m: "
          ]
        }
      ]
    },
    {
      "cell_type": "markdown",
      "metadata": {
        "id": "8CVsp5g-nCrg"
      },
      "source": [
        "Exercice 13: Notre restaurant est fermé à cause de la crise du covid, commandez en ligne"
      ]
    },
    {
      "cell_type": "code",
      "metadata": {
        "id": "VjpRwEeonRyZ"
      },
      "source": [
        "menu={\"cafe\":350,\"spaghetti\":500,\"burger\":1500,\"chawama\":1500,\"frite poulet\":2500, \"riz\":2000, \"pain\":500,\"fifa\":500}\n",
        "\n",
        "\n",
        "def restaurant():\n",
        "  print(\"Commande:\")\n",
        "  commande = input()\n",
        "  commande=commande.lower()\n",
        "\n",
        "\n",
        "  # Initialisation du prix total des commandes de l'utilisateur\n",
        "  prix=0\n",
        "\n",
        "  while commande != \"\":\n",
        "    if commande in menu:\n",
        "      prix += menu[commande]\n",
        "      print(commande + \" coûte \" + str(menu[commande]) + \", total est \"+ str(prix))\n",
        "    \n",
        "    elif commande != menu:\n",
        "      print(\"Désolé, Nous n'offrons pas de \" + commande + \" aujourd'hui.\")\n",
        "    \n",
        "    print(\"Commande:\")\n",
        "    commande=input()\n",
        "    commande=commande.lower()\n",
        "\n",
        "  print(\"Votre total est \" + str(prix))"
      ],
      "execution_count": null,
      "outputs": []
    },
    {
      "cell_type": "code",
      "metadata": {
        "colab": {
          "base_uri": "https://localhost:8080/"
        },
        "id": "ruZZ9NV9n-pS",
        "outputId": "a36bd473-2eb9-43cb-8678-eb11de869d87"
      },
      "source": [
        "restaurant()"
      ],
      "execution_count": null,
      "outputs": [
        {
          "output_type": "stream",
          "text": [
            "Commande:\n",
            "CAFE\n",
            "cafe coûte 350, total est 350\n",
            "Commande:\n",
            "Spaghetti\n",
            "spaghetti coûte 500, total est 850\n",
            "Commande:\n",
            "Chicha\n",
            "Désolé, Nous n'offrons pas de chicha aujourd'hui.\n",
            "Commande:\n",
            "FIFa\n",
            "fifa coûte 500, total est 1350\n",
            "Commande:\n",
            "\n",
            "Votre total est 1350\n"
          ],
          "name": "stdout"
        }
      ]
    },
    {
      "cell_type": "markdown",
      "metadata": {
        "id": "jdvqccM0osU6"
      },
      "source": [
        "Exercice 14: Trop d'escale, c'est fatiguant\n"
      ]
    },
    {
      "cell_type": "code",
      "metadata": {
        "id": "TtfCUuEbpT4D"
      },
      "source": [
        "Dict={}"
      ],
      "execution_count": null,
      "outputs": []
    },
    {
      "cell_type": "code",
      "metadata": {
        "colab": {
          "base_uri": "https://localhost:8080/"
        },
        "id": "pvtm-k2No2r4",
        "outputId": "8d971a9c-46b2-43b4-8a23-de4b82d8ca2e"
      },
      "source": [
        "\n",
        "ville_escale= input(\"la ville d'escale: \")\n",
        "duree_escale= input(\"la durée d'escale: \")\n",
        "duree_escale=float(duree_escale)\n",
        "Dict[ville_escale]=duree_escale\n",
        "print(Dict)"
      ],
      "execution_count": null,
      "outputs": [
        {
          "output_type": "stream",
          "text": [
            "la ville d'escale: Paris\n",
            "la durée d'escale: 0.5\n",
            "{'Nairobi': 2.0, 'Bamako': 1.5, 'Abuja': 1.0, 'Paris': 0.5}\n"
          ],
          "name": "stdout"
        }
      ]
    },
    {
      "cell_type": "code",
      "metadata": {
        "id": "-JdQVriZpv31"
      },
      "source": [
        "def duree_total(Dict):\n",
        "    total = 0\n",
        "    for i in Dict.values():\n",
        "        total = total + i\n",
        "    return total"
      ],
      "execution_count": null,
      "outputs": []
    },
    {
      "cell_type": "code",
      "metadata": {
        "colab": {
          "base_uri": "https://localhost:8080/"
        },
        "id": "PGXDYXrIp1Mh",
        "outputId": "1b1d297f-e694-4de1-dae5-0f8951eba646"
      },
      "source": [
        "print(f\"Votre total d'heures d'escales est {duree_total(Dict)} heures\" )"
      ],
      "execution_count": null,
      "outputs": [
        {
          "output_type": "stream",
          "text": [
            "Votre total d'heures d'escales est 5.0 heures\n"
          ],
          "name": "stdout"
        }
      ]
    },
    {
      "cell_type": "markdown",
      "metadata": {
        "id": "N46cFUmmqEri"
      },
      "source": [
        "Exercice 15: Combien de mots il y a-t-il dans ton fichier?"
      ]
    },
    {
      "cell_type": "code",
      "metadata": {
        "id": "a89VotGMqPtp"
      },
      "source": [
        "def wordcount(filename):\n",
        "        nombre_lignes = 0\n",
        "        nombre_mots = 0\n",
        "        nombre_characteres = 0\n",
        "        mot_distincts = set()\n",
        "        \n",
        "        with open(filename, 'r') as file:\n",
        "            for ligne in file:\n",
        "                ligne = ligne.strip(\"\\n\")\n",
        "                mots = ligne.split(' ')\n",
        "                mot_distincts.update(set(mots))\n",
        "                nombre_lignes += 1\n",
        "                nombre_mots += len(mots)\n",
        "                nombre_characteres += len(ligne)\n",
        "                \n",
        "            print(\"Le nombre de caractères (les espaces inclus) est: \", nombre_characteres)\n",
        "            print(\"Le nombre de mots (séparé par des espaces: 25 est un mot) est: \",nombre_mots)\n",
        "            print(\"Le nombre de lignes est: \",nombre_lignes)\n",
        "            print(\"Le nombre de mots distincts (oui et Oui sont 2 mots unique) est: \",len(mot_distincts))\n",
        "            \n",
        "            #print(\"lines:\", number_of_lines, \"words:\", number_of_words, \"characters: \",number_of_characters) "
      ],
      "execution_count": 12,
      "outputs": []
    },
    {
      "cell_type": "code",
      "metadata": {
        "colab": {
          "base_uri": "https://localhost:8080/"
        },
        "id": "jLBVaiCs3_1w",
        "outputId": "ab54e806-d183-41c6-b4a1-df10beec8516"
      },
      "source": [
        "wordcount('/content/count.txt')"
      ],
      "execution_count": 13,
      "outputs": [
        {
          "output_type": "stream",
          "text": [
            "Le nombre de caractères (les espaces inclus) est:  507\n",
            "Le nombre de mots (séparé par des espaces: 25 est un mot) est:  86\n",
            "Le nombre de lignes est:  7\n",
            "Le nombre de mots distincts (oui et Oui sont 2 mots unique) est:  61\n"
          ],
          "name": "stdout"
        }
      ]
    },
    {
      "cell_type": "markdown",
      "metadata": {
        "id": "hV8VB9CWuWis"
      },
      "source": [
        "Exercice 16: Générateur de mots de passe"
      ]
    },
    {
      "cell_type": "code",
      "metadata": {
        "id": "Ev-xVXBouc-t"
      },
      "source": [
        "import string\n",
        "import random\n",
        "\n",
        "LETTERS = string.ascii_letters\n",
        "NUMBERS = string.digits  \n",
        "PUNCTUATION = string.punctuation\n",
        "\n",
        "\n",
        "def generateur_mot_de_passe():\n",
        "    \n",
        "    taille = input(\"Quelle est la taille de votre mot de passe : \")\n",
        "    taille= int(taille)\n",
        "\n",
        "    fusion = f'{LETTERS}{NUMBERS}{PUNCTUATION}'\n",
        "\n",
        "    fusion = list(fusion)\n",
        "    random.shuffle(fusion)\n",
        "    mon_password = random.choices(fusion, k=taille)\n",
        "    \n",
        "    mon_password = ''.join(mon_password)\n",
        "\n",
        "    return mon_password"
      ],
      "execution_count": 14,
      "outputs": []
    },
    {
      "cell_type": "code",
      "metadata": {
        "colab": {
          "base_uri": "https://localhost:8080/",
          "height": 52
        },
        "id": "kHXoI9HlvO6U",
        "outputId": "f39e01a3-d865-4a2f-895b-784837c1fc8e"
      },
      "source": [
        "generateur_mot_de_passe()"
      ],
      "execution_count": 15,
      "outputs": [
        {
          "output_type": "stream",
          "text": [
            "Quelle est la taille de votre mot de passe : 8\n"
          ],
          "name": "stdout"
        },
        {
          "output_type": "execute_result",
          "data": {
            "application/vnd.google.colaboratory.intrinsic+json": {
              "type": "string"
            },
            "text/plain": [
              "'cI58#+Ui'"
            ]
          },
          "metadata": {
            "tags": []
          },
          "execution_count": 15
        }
      ]
    },
    {
      "cell_type": "markdown",
      "metadata": {
        "id": "UZdlV3QfvVKv"
      },
      "source": [
        "Exercice 17: Modules"
      ]
    },
    {
      "cell_type": "code",
      "metadata": {
        "id": "vVRCqKyDvZzj"
      },
      "source": [
        ""
      ],
      "execution_count": null,
      "outputs": []
    },
    {
      "cell_type": "markdown",
      "metadata": {
        "id": "QbmRHL41wPet"
      },
      "source": [
        "Exercice 18: Programmantion orientée objet"
      ]
    },
    {
      "cell_type": "code",
      "metadata": {
        "id": "s4Ry2zRpwbv1"
      },
      "source": [
        "class Vehicule:\n",
        "  def __init__(self,couleur, distance_parcourue, vitesse_maximum, vitesse_actuelle):\n",
        "    self.couleur= couleur\n",
        "    self.distance_parcourue=distance_parcourue\n",
        "    self.vitesse_maximum=vitesse_maximum\n",
        "    self.vitesse_actuelle=vitesse_actuelle\n",
        "\n",
        "  def accelerer(self):\n",
        "    print('Augmente la vitesse actuelle sur une durée(munites) sans dépasser la vitesse maximum')\n",
        "\n",
        "  def ralentir(self):\n",
        "    print('Dimunie la vitesse sur une duree(munite)')\n",
        "\n",
        "  def arreter(self):\n",
        "    print('elle met à 0 la vitesse actuelle')\n",
        "\n",
        "         "
      ],
      "execution_count": 19,
      "outputs": []
    },
    {
      "cell_type": "code",
      "metadata": {
        "id": "ZELids-lyiFE"
      },
      "source": [
        "v1 = Vehicule(couleur='bleu',distance_parcourue='' , vitesse_maximum='100',vitesse_actuelle='')\n"
      ],
      "execution_count": 20,
      "outputs": []
    },
    {
      "cell_type": "code",
      "metadata": {
        "id": "rYZOEOC5BBJw"
      },
      "source": [
        "class Vehicule:\n",
        "  def __init__(self,distance_parcourue, etat):\n",
        "    self.distance_parcourue= distance_parcourue\n",
        "    self.etat=etat\n",
        "  def _repr_(self, distance_parcourue, état):\n",
        "    rep = 'Vehicule(' + self.distance_parcourue + ',' + self.etat + ')'\n",
        "    return rep"
      ],
      "execution_count": 21,
      "outputs": []
    }
  ]
}